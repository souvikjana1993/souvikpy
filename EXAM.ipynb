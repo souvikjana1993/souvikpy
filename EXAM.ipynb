{
  "nbformat": 4,
  "nbformat_minor": 0,
  "metadata": {
    "colab": {
      "name": "EXAM.ipynb",
      "version": "0.3.2",
      "provenance": [],
      "collapsed_sections": [],
      "include_colab_link": true
    },
    "kernelspec": {
      "name": "python3",
      "display_name": "Python 3"
    },
    "accelerator": "GPU"
  },
  "cells": [
    {
      "cell_type": "markdown",
      "metadata": {
        "id": "view-in-github",
        "colab_type": "text"
      },
      "source": [
        "<a href=\"https://colab.research.google.com/github/souvikjana1993/souvikpy/blob/master/EXAM.ipynb\" target=\"_parent\"><img src=\"https://colab.research.google.com/assets/colab-badge.svg\" alt=\"Open In Colab\"/></a>"
      ]
    },
    {
      "metadata": {
        "id": "8ZQpV2-TVaXm",
        "colab_type": "code",
        "outputId": "408c7ed9-e0d9-4c00-90e9-c5923f9444f3",
        "colab": {
          "base_uri": "https://localhost:8080/",
          "height": 121
        }
      },
      "cell_type": "code",
      "source": [
        "from google.colab import drive\n",
        "drive.mount('/content/gdrive')\n",
        "\n",
        "#fuse drive with colab"
      ],
      "execution_count": 1,
      "outputs": [
        {
          "output_type": "stream",
          "text": [
            "Go to this URL in a browser: https://accounts.google.com/o/oauth2/auth?client_id=947318989803-6bn6qk8qdgf4n4g3pfee6491hc0brc4i.apps.googleusercontent.com&redirect_uri=urn%3Aietf%3Awg%3Aoauth%3A2.0%3Aoob&scope=email%20https%3A%2F%2Fwww.googleapis.com%2Fauth%2Fdocs.test%20https%3A%2F%2Fwww.googleapis.com%2Fauth%2Fdrive%20https%3A%2F%2Fwww.googleapis.com%2Fauth%2Fdrive.photos.readonly%20https%3A%2F%2Fwww.googleapis.com%2Fauth%2Fpeopleapi.readonly&response_type=code\n",
            "\n",
            "Enter your authorization code:\n",
            "··········\n",
            "Mounted at /content/gdrive\n"
          ],
          "name": "stdout"
        }
      ]
    },
    {
      "metadata": {
        "id": "P7H8pECnTaTy",
        "colab_type": "code",
        "outputId": "a6b93298-7aca-4dfb-f1d2-25279f5ea95f",
        "colab": {
          "base_uri": "https://localhost:8080/",
          "height": 202
        }
      },
      "cell_type": "code",
      "source": [
        "!wget http://www.robots.ox.ac.uk/~vgg/data/flowers/17/17flowers.tgz"
      ],
      "execution_count": 2,
      "outputs": [
        {
          "output_type": "stream",
          "text": [
            "--2019-03-22 04:44:37--  http://www.robots.ox.ac.uk/~vgg/data/flowers/17/17flowers.tgz\n",
            "Resolving www.robots.ox.ac.uk (www.robots.ox.ac.uk)... 129.67.94.2\n",
            "Connecting to www.robots.ox.ac.uk (www.robots.ox.ac.uk)|129.67.94.2|:80... connected.\n",
            "HTTP request sent, awaiting response... 200 OK\n",
            "Length: 60270631 (57M) [application/x-gzip]\n",
            "Saving to: ‘17flowers.tgz’\n",
            "\n",
            "17flowers.tgz       100%[===================>]  57.48M  22.3MB/s    in 2.6s    \n",
            "\n",
            "2019-03-22 04:44:40 (22.3 MB/s) - ‘17flowers.tgz’ saved [60270631/60270631]\n",
            "\n"
          ],
          "name": "stdout"
        }
      ]
    },
    {
      "metadata": {
        "id": "Qk5ZJnGaUSAD",
        "colab_type": "code",
        "outputId": "e06ca5b5-28dc-4196-d151-d0dc870e80a9",
        "colab": {
          "base_uri": "https://localhost:8080/",
          "height": 322
        }
      },
      "cell_type": "code",
      "source": [
        "!pip install pyunpack\n",
        "!pip install patool"
      ],
      "execution_count": 3,
      "outputs": [
        {
          "output_type": "stream",
          "text": [
            "Collecting pyunpack\n",
            "  Downloading https://files.pythonhosted.org/packages/79/dc/44cd41fb99d184ae7c2eac439a52ca624d5ece62b0302c3437fcc4ce3b58/pyunpack-0.1.2.tar.gz\n",
            "Collecting easyprocess (from pyunpack)\n",
            "  Downloading https://files.pythonhosted.org/packages/45/3a/4eecc0c7995a13a64739bbedc0d3691fc574245b7e79cff81905aa0c2b38/EasyProcess-0.2.5.tar.gz\n",
            "Building wheels for collected packages: pyunpack, easyprocess\n",
            "  Building wheel for pyunpack (setup.py) ... \u001b[?25ldone\n",
            "\u001b[?25h  Stored in directory: /root/.cache/pip/wheels/af/44/08/60613970881e542c0baad1f2dea5ed8e6716bc573f49197b7e\n",
            "  Building wheel for easyprocess (setup.py) ... \u001b[?25ldone\n",
            "\u001b[?25h  Stored in directory: /root/.cache/pip/wheels/41/22/19/af15ef6264c58b625a82641ed7483ad05e258fbd8925505227\n",
            "Successfully built pyunpack easyprocess\n",
            "Installing collected packages: easyprocess, pyunpack\n",
            "Successfully installed easyprocess-0.2.5 pyunpack-0.1.2\n",
            "Collecting patool\n",
            "\u001b[?25l  Downloading https://files.pythonhosted.org/packages/43/94/52243ddff508780dd2d8110964320ab4851134a55ab102285b46e740f76a/patool-1.12-py2.py3-none-any.whl (77kB)\n",
            "\u001b[K    100% |████████████████████████████████| 81kB 3.8MB/s \n",
            "\u001b[?25hInstalling collected packages: patool\n",
            "Successfully installed patool-1.12\n"
          ],
          "name": "stdout"
        }
      ]
    },
    {
      "metadata": {
        "id": "BY7rd1qt_uzi",
        "colab_type": "text"
      },
      "cell_type": "markdown",
      "source": [
        "# DATA SORTING AND PREPROCESSING"
      ]
    },
    {
      "metadata": {
        "id": "LknrB_ixt_hi",
        "colab_type": "code",
        "colab": {
          "base_uri": "https://localhost:8080/",
          "height": 34
        },
        "outputId": "2d5035da-a0cd-423d-862d-72702f1e9947"
      },
      "cell_type": "code",
      "source": [
        "%cd '/content'\n",
        "!mkdir 'data'"
      ],
      "execution_count": 4,
      "outputs": [
        {
          "output_type": "stream",
          "text": [
            "/content\n"
          ],
          "name": "stdout"
        }
      ]
    },
    {
      "metadata": {
        "id": "KoYL68VRXUf1",
        "colab_type": "code",
        "colab": {}
      },
      "cell_type": "code",
      "source": [
        "from pyunpack import Archive\n",
        "Archive('/content/17flowers.tgz').extractall('/content/data')\n",
        "\n",
        "#load on mydrive"
      ],
      "execution_count": 0,
      "outputs": []
    },
    {
      "metadata": {
        "id": "TURbakBgfqjK",
        "colab_type": "code",
        "colab": {}
      },
      "cell_type": "code",
      "source": [
        "!mkdir /content/sort_data"
      ],
      "execution_count": 0,
      "outputs": []
    },
    {
      "metadata": {
        "id": "dzCFHeijwq77",
        "colab_type": "code",
        "colab": {}
      },
      "cell_type": "code",
      "source": [
        "#!mkdir /content/sort_data/CAT1\n",
        "!mkdir /content/sort_data/CAT2\n",
        "!mkdir /content/sort_data/CAT3\n",
        "!mkdir /content/sort_data/CAT4\n",
        "!mkdir /content/sort_data/CAT5\n",
        "!mkdir /content/sort_data/CAT6\n",
        "!mkdir /content/sort_data/CAT7\n",
        "!mkdir /content/sort_data/CAT8\n",
        "!mkdir /content/sort_data/CAT9\n",
        "!mkdir /content/sort_data/CAT10\n",
        "!mkdir /content/sort_data/CAT11\n",
        "!mkdir /content/sort_data/CAT12\n",
        "!mkdir /content/sort_data/CAT13\n",
        "!mkdir /content/sort_data/CAT14\n",
        "!mkdir /content/sort_data/CAT15\n",
        "!mkdir /content/sort_data/CAT16\n",
        "!mkdir /content/sort_data/CAT17"
      ],
      "execution_count": 0,
      "outputs": []
    },
    {
      "metadata": {
        "id": "uHwp1SBW0CyA",
        "colab_type": "code",
        "colab": {}
      },
      "cell_type": "code",
      "source": [
        "# for i in range(1,17):\n",
        "#   !mkdir '/content/sort_data/CAT'+str(i)"
      ],
      "execution_count": 0,
      "outputs": []
    },
    {
      "metadata": {
        "id": "TKyn0v-WxBYP",
        "colab_type": "code",
        "colab": {
          "base_uri": "https://localhost:8080/",
          "height": 34
        },
        "outputId": "aaf4a234-e9fa-4a7c-c949-a2b695907e48"
      },
      "cell_type": "code",
      "source": [
        "# import os\n",
        "# len(os.listdir('/content/data/jpg'))"
      ],
      "execution_count": 14,
      "outputs": [
        {
          "output_type": "execute_result",
          "data": {
            "text/plain": [
              "1362"
            ]
          },
          "metadata": {
            "tags": []
          },
          "execution_count": 14
        }
      ]
    },
    {
      "metadata": {
        "id": "CNiC3ZL2zQrB",
        "colab_type": "code",
        "colab": {}
      },
      "cell_type": "code",
      "source": [
        ""
      ],
      "execution_count": 0,
      "outputs": []
    },
    {
      "metadata": {
        "id": "fjtdBwgFm4AF",
        "colab_type": "code",
        "colab": {}
      },
      "cell_type": "code",
      "source": [
        "%cp /content/data/jpg/image_{0001..0080}.jpg /content/sort_data/CAT1"
      ],
      "execution_count": 0,
      "outputs": []
    },
    {
      "metadata": {
        "id": "xuyf_pMfyCS4",
        "colab_type": "code",
        "colab": {}
      },
      "cell_type": "code",
      "source": [
        "%cp /content/data/jpg/image_{0001..0080}.jpg /content/sort_data/CAT1\n",
        "%cp /content/data/jpg/image_{0081..0160}.jpg /content/sort_data/CAT2\n",
        "%cp /content/data/jpg/image_{0161..0240}.jpg /content/sort_data/CAT3\n",
        "%cp /content/data/jpg/image_{0241..0320}.jpg /content/sort_data/CAT4\n",
        "%cp /content/data/jpg/image_{0321..0400}.jpg /content/sort_data/CAT5\n",
        "%cp /content/data/jpg/image_{0401..0480}.jpg /content/sort_data/CAT6\n",
        "%cp /content/data/jpg/image_{0481..0560}.jpg /content/sort_data/CAT7\n",
        "%cp /content/data/jpg/image_{0561..0640}.jpg /content/sort_data/CAT8\n",
        "%cp /content/data/jpg/image_{0641..0720}.jpg /content/sort_data/CAT9\n",
        "%cp /content/data/jpg/image_{0721..0800}.jpg /content/sort_data/CAT10\n",
        "%cp /content/data/jpg/image_{0801..0880}.jpg /content/sort_data/CAT11\n",
        "%cp /content/data/jpg/image_{0881..0960}.jpg /content/sort_data/CAT12\n",
        "%cp /content/data/jpg/image_{0961..1040}.jpg /content/sort_data/CAT13\n",
        "%cp /content/data/jpg/image_{1041..1120}.jpg /content/sort_data/CAT14\n",
        "%cp /content/data/jpg/image_{1121..1200}.jpg /content/sort_data/CAT15\n",
        "%cp /content/data/jpg/image_{1201..1280}.jpg /content/sort_data/CAT16\n",
        "%cp /content/data/jpg/image_{1281..1360}.jpg /content/sort_data/CAT17"
      ],
      "execution_count": 0,
      "outputs": []
    },
    {
      "metadata": {
        "id": "QRJHfyQW4Sk8",
        "colab_type": "code",
        "colab": {}
      },
      "cell_type": "code",
      "source": [
        "for i in range(0,17):\n",
        "  os.mkdir('/content/sort_data/train/'+str(i))"
      ],
      "execution_count": 0,
      "outputs": []
    },
    {
      "metadata": {
        "id": "rFD2HWl_3ZLa",
        "colab_type": "code",
        "colab": {
          "base_uri": "https://localhost:8080/",
          "height": 34
        },
        "outputId": "d0e85b1a-653b-4549-b0d8-9cc497468f79"
      },
      "cell_type": "code",
      "source": [
        "%cd '/content/sort_data/'\n",
        "!mkdir 'train'\n",
        "!mkdir 'valid'"
      ],
      "execution_count": 23,
      "outputs": [
        {
          "output_type": "stream",
          "text": [
            "/content/sort_data\n"
          ],
          "name": "stdout"
        }
      ]
    },
    {
      "metadata": {
        "id": "sn9fcDrv3g9A",
        "colab_type": "code",
        "colab": {}
      },
      "cell_type": "code",
      "source": [
        "for i in range(0,17):\n",
        "  os.mkdir('/content/sort_data/valid/'+str(i))"
      ],
      "execution_count": 0,
      "outputs": []
    },
    {
      "metadata": {
        "id": "XjzsBGbU0nL_",
        "colab_type": "code",
        "colab": {
          "base_uri": "https://localhost:8080/",
          "height": 34
        },
        "outputId": "f4ed85a5-bfe3-47c3-e67d-048450ed8ff9"
      },
      "cell_type": "code",
      "source": [
        "%cd /content/sort_data\n",
        "import random\n",
        "# os.chdir('train_images')\n",
        "# os.chdir('test_images')\n",
        "path = os.listdir('/content/sort_data/CAT17')\n",
        "valid = random.sample(os.listdir('/content/sort_data/CAT17'),16)\n",
        "import shutil \n",
        "for i in path:\n",
        "  if i in valid:\n",
        "    shutil.move('/content/sort_data/CAT17/'+str(i),'/content/sort_data/valid/16/')\n",
        "  else:\n",
        "    shutil.move('/content/sort_data/CAT17/'+str(i),'/content/sort_data/train/16/')"
      ],
      "execution_count": 43,
      "outputs": [
        {
          "output_type": "stream",
          "text": [
            "/content/sort_data\n"
          ],
          "name": "stdout"
        }
      ]
    },
    {
      "metadata": {
        "id": "2SoyIYbd_orN",
        "colab_type": "text"
      },
      "cell_type": "markdown",
      "source": [
        "# SCRATCH MODEL"
      ]
    },
    {
      "metadata": {
        "id": "Um712dqbaWVy",
        "colab_type": "code",
        "colab": {}
      },
      "cell_type": "code",
      "source": [
        "from keras.layers import Conv2D, MaxPool2D, Input, Dense, Flatten\n",
        "from keras.models import Model, K\n",
        "from keras.preprocessing.image import ImageDataGenerator\n",
        "import numpy as np"
      ],
      "execution_count": 0,
      "outputs": []
    },
    {
      "metadata": {
        "id": "ngrojdaod0d4",
        "colab_type": "code",
        "outputId": "dfb68422-3875-4fe5-bede-2454a6b55fea",
        "colab": {
          "base_uri": "https://localhost:8080/",
          "height": 470
        }
      },
      "cell_type": "code",
      "source": [
        "K.clear_session()\n",
        "inp = Input(shape=[150,150,3], dtype = np.float32)\n",
        "x = Conv2D(filters = 32, kernel_size = (3,3), strides = 1, padding = 'same', activation = 'relu')(inp)\n",
        "x = MaxPool2D(pool_size=(2,2), strides = 1, padding = 'same')(x)\n",
        "\n",
        "#2 conv layers\n",
        "x = Conv2D(filters=48, kernel_size = (3,3), strides = 2, padding = 'valid')(x) #valid shrinks size of image as layers are being built???\n",
        "x = MaxPool2D(pool_size=(2,2), strides = 2, padding = 'same')(x)\n",
        "x = Conv2D(filters=48, kernel_size = (3,3), strides = 2, padding = 'valid')(x)\n",
        "x = MaxPool2D(pool_size=(2,2), strides = 2, padding = 'same')(x)\n",
        "\n",
        "x = Flatten()(x)\n",
        "x = Dense(units = 128, activation = 'relu')(x)\n",
        "#x = Dropout()\n",
        "#s.Dropout(rate, noise_shape=None, seed=None)\n",
        "out = Dense(17, activation = 'relu')(x)\n",
        "model = Model(inp,out)\n",
        "model.summary()"
      ],
      "execution_count": 62,
      "outputs": [
        {
          "output_type": "stream",
          "text": [
            "_________________________________________________________________\n",
            "Layer (type)                 Output Shape              Param #   \n",
            "=================================================================\n",
            "input_1 (InputLayer)         (None, 150, 150, 3)       0         \n",
            "_________________________________________________________________\n",
            "conv2d_1 (Conv2D)            (None, 150, 150, 32)      896       \n",
            "_________________________________________________________________\n",
            "max_pooling2d_1 (MaxPooling2 (None, 150, 150, 32)      0         \n",
            "_________________________________________________________________\n",
            "conv2d_2 (Conv2D)            (None, 74, 74, 48)        13872     \n",
            "_________________________________________________________________\n",
            "max_pooling2d_2 (MaxPooling2 (None, 37, 37, 48)        0         \n",
            "_________________________________________________________________\n",
            "conv2d_3 (Conv2D)            (None, 18, 18, 48)        20784     \n",
            "_________________________________________________________________\n",
            "max_pooling2d_3 (MaxPooling2 (None, 9, 9, 48)          0         \n",
            "_________________________________________________________________\n",
            "flatten_1 (Flatten)          (None, 3888)              0         \n",
            "_________________________________________________________________\n",
            "dense_1 (Dense)              (None, 128)               497792    \n",
            "_________________________________________________________________\n",
            "dense_2 (Dense)              (None, 17)                2193      \n",
            "=================================================================\n",
            "Total params: 535,537\n",
            "Trainable params: 535,537\n",
            "Non-trainable params: 0\n",
            "_________________________________________________________________\n"
          ],
          "name": "stdout"
        }
      ]
    },
    {
      "metadata": {
        "id": "F0g7Lp6_jaKB",
        "colab_type": "code",
        "colab": {}
      },
      "cell_type": "code",
      "source": [
        "model.compile(optimizer='adam', loss = 'categorical_crossentropy', metrics = ['accuracy'])"
      ],
      "execution_count": 0,
      "outputs": []
    },
    {
      "metadata": {
        "id": "2S4Mb2NJj5sr",
        "colab_type": "code",
        "colab": {}
      },
      "cell_type": "code",
      "source": [
        "#augmenting train data to generate more images\n",
        "generator_train = ImageDataGenerator(rescale = 1./255,\n",
        "                                    rotation_range = 45,\n",
        "                                    width_shift_range = 0.1,\n",
        "                                    height_shift_range = 0.1,\n",
        "                                    vertical_flip = True,\n",
        "                                    horizontal_flip = True)\n",
        "\n",
        "\n",
        "generator_valid = ImageDataGenerator(rescale = 1./255)\n",
        "#only rescale and generate more images in test dataset"
      ],
      "execution_count": 0,
      "outputs": []
    },
    {
      "metadata": {
        "id": "V3sRCbdf7NJk",
        "colab_type": "code",
        "colab": {}
      },
      "cell_type": "code",
      "source": [
        "train_dir = '/content/sort_data/train'\n",
        "val_dir = '/content/sort_data/valid'"
      ],
      "execution_count": 0,
      "outputs": []
    },
    {
      "metadata": {
        "id": "4A7YH1Lrld5w",
        "colab_type": "code",
        "outputId": "7392a7f3-ba43-45eb-9faf-fb25dc258d94",
        "colab": {
          "base_uri": "https://localhost:8080/",
          "height": 50
        }
      },
      "cell_type": "code",
      "source": [
        "train_gen = generator_train.flow_from_directory(directory=train_dir,\n",
        "                                    batch_size=32,\n",
        "                                   target_size = (150,150), #reshape to 150,150 size\n",
        "                                   class_mode = 'categorical')\n",
        "test_gen = generator_train.flow_from_directory(directory=val_dir,\n",
        "                                    batch_size=32,\n",
        "                                   target_size = (150,150), #reshape to 150,150 size\n",
        "                                   class_mode = 'categorical')"
      ],
      "execution_count": 66,
      "outputs": [
        {
          "output_type": "stream",
          "text": [
            "Found 1088 images belonging to 17 classes.\n",
            "Found 272 images belonging to 17 classes.\n"
          ],
          "name": "stdout"
        }
      ]
    },
    {
      "metadata": {
        "id": "tovZ6D577Vii",
        "colab_type": "code",
        "colab": {
          "base_uri": "https://localhost:8080/",
          "height": 353
        },
        "outputId": "c45b3911-ae07-4d3e-91d6-0c3cf2f0efe5"
      },
      "cell_type": "code",
      "source": [
        "hist = model.fit_generator(generator = train_gen, steps_per_epoch = 30, epochs=10, validation_data=test_gen, validation_steps=30)"
      ],
      "execution_count": 67,
      "outputs": [
        {
          "output_type": "stream",
          "text": [
            "Epoch 1/10\n",
            "30/30 [==============================] - 21s 693ms/step - loss: 6.0118 - acc: 0.0594 - val_loss: 4.9402 - val_acc: 0.1118\n",
            "Epoch 2/10\n",
            "30/30 [==============================] - 18s 584ms/step - loss: 4.5260 - acc: 0.1229 - val_loss: 4.0424 - val_acc: 0.2138\n",
            "Epoch 3/10\n",
            "30/30 [==============================] - 17s 581ms/step - loss: 4.0610 - acc: 0.1656 - val_loss: 3.9854 - val_acc: 0.1194\n",
            "Epoch 4/10\n",
            "30/30 [==============================] - 18s 586ms/step - loss: 3.9441 - acc: 0.1250 - val_loss: 3.8790 - val_acc: 0.1842\n",
            "Epoch 5/10\n",
            "30/30 [==============================] - 18s 586ms/step - loss: 3.8397 - acc: 0.1760 - val_loss: 3.9266 - val_acc: 0.1908\n",
            "Epoch 6/10\n",
            "30/30 [==============================] - 18s 584ms/step - loss: 3.8176 - acc: 0.2531 - val_loss: 4.1008 - val_acc: 0.1641\n",
            "Epoch 7/10\n",
            "30/30 [==============================] - 17s 580ms/step - loss: 3.9921 - acc: 0.1802 - val_loss: 3.9267 - val_acc: 0.1590\n",
            "Epoch 8/10\n",
            "30/30 [==============================] - 17s 578ms/step - loss: 3.9020 - acc: 0.1844 - val_loss: 3.8928 - val_acc: 0.2423\n",
            "Epoch 9/10\n",
            "30/30 [==============================] - 17s 573ms/step - loss: 3.7451 - acc: 0.2562 - val_loss: 3.8140 - val_acc: 0.3114\n",
            "Epoch 10/10\n",
            "30/30 [==============================] - 18s 588ms/step - loss: 3.9725 - acc: 0.2865 - val_loss: 4.2402 - val_acc: 0.2478\n"
          ],
          "name": "stdout"
        }
      ]
    },
    {
      "metadata": {
        "id": "yEWgmMOU_kGq",
        "colab_type": "text"
      },
      "cell_type": "markdown",
      "source": [
        "# VGG 16 MODEL"
      ]
    },
    {
      "metadata": {
        "id": "T40zzPp-7Y3e",
        "colab_type": "code",
        "colab": {}
      },
      "cell_type": "code",
      "source": [
        "from keras.applications.vgg16 import VGG16\n",
        "from keras.preprocessing import image\n",
        "from keras.applications.vgg16 import preprocess_input\n",
        "import numpy as np\n",
        "from keras.layers import Dense, GlobalAveragePooling2D\n",
        "base_model = VGG16(weights='imagenet', include_top=False)\n",
        "#taking imagenet weights"
      ],
      "execution_count": 0,
      "outputs": []
    },
    {
      "metadata": {
        "id": "P21L6vcd-Xo3",
        "colab_type": "code",
        "colab": {}
      },
      "cell_type": "code",
      "source": [
        "# add a global spatial average pooling layer\n",
        "x = base_model.output\n",
        "x = GlobalAveragePooling2D()(x)\n",
        "# let's add a fully-connected layer\n",
        "x = Dense(1024, activation='relu')(x)\n",
        "# and a logistic layer -- let's say we have 200 classes\n",
        "predictions = Dense(17, activation='softmax')(x)"
      ],
      "execution_count": 0,
      "outputs": []
    },
    {
      "metadata": {
        "id": "GWZX7_w9_J1W",
        "colab_type": "code",
        "colab": {}
      },
      "cell_type": "code",
      "source": [
        "# this is the model we will train\n",
        "model = Model(inputs=base_model.input, outputs=predictions)"
      ],
      "execution_count": 0,
      "outputs": []
    },
    {
      "metadata": {
        "id": "9Sd6i3Xb_ICX",
        "colab_type": "code",
        "colab": {}
      },
      "cell_type": "code",
      "source": [
        "#train only the top layers \n",
        "for layer in base_model.layers:\n",
        "    layer.trainable = False\n",
        "\n",
        "model.compile(optimizer='rmsprop', loss='categorical_crossentropy',metrics = ['accuracy'])"
      ],
      "execution_count": 0,
      "outputs": []
    },
    {
      "metadata": {
        "id": "usJz9XNh9uc3",
        "colab_type": "code",
        "colab": {
          "base_uri": "https://localhost:8080/",
          "height": 353
        },
        "outputId": "404bf946-56d2-40a8-dede-b08a8f408c3f"
      },
      "cell_type": "code",
      "source": [
        "hist2 = model.fit_generator(generator = train_gen, steps_per_epoch = 30, epochs=10, validation_data=test_gen, validation_steps=30)"
      ],
      "execution_count": 81,
      "outputs": [
        {
          "output_type": "stream",
          "text": [
            "Epoch 1/10\n",
            "30/30 [==============================] - 23s 776ms/step - loss: 1.3474 - acc: 0.6125 - val_loss: 1.1085 - val_acc: 0.6217\n",
            "Epoch 2/10\n",
            "30/30 [==============================] - 20s 652ms/step - loss: 1.0857 - acc: 0.6677 - val_loss: 0.9995 - val_acc: 0.7083\n",
            "Epoch 3/10\n",
            "30/30 [==============================] - 19s 648ms/step - loss: 0.9433 - acc: 0.7115 - val_loss: 0.9436 - val_acc: 0.7154\n",
            "Epoch 4/10\n",
            "30/30 [==============================] - 20s 659ms/step - loss: 0.8656 - acc: 0.7333 - val_loss: 0.8614 - val_acc: 0.7248\n",
            "Epoch 5/10\n",
            "30/30 [==============================] - 20s 663ms/step - loss: 0.7642 - acc: 0.7635 - val_loss: 0.7769 - val_acc: 0.7500\n",
            "Epoch 6/10\n",
            "30/30 [==============================] - 20s 651ms/step - loss: 0.7669 - acc: 0.7521 - val_loss: 0.7279 - val_acc: 0.7812\n",
            "Epoch 7/10\n",
            "30/30 [==============================] - 20s 660ms/step - loss: 0.6530 - acc: 0.7958 - val_loss: 0.6999 - val_acc: 0.7774\n",
            "Epoch 8/10\n",
            "30/30 [==============================] - 20s 662ms/step - loss: 0.5921 - acc: 0.8219 - val_loss: 0.7116 - val_acc: 0.7632\n",
            "Epoch 9/10\n",
            "30/30 [==============================] - 20s 651ms/step - loss: 0.6221 - acc: 0.8073 - val_loss: 0.7097 - val_acc: 0.7679\n",
            "Epoch 10/10\n",
            "30/30 [==============================] - 20s 655ms/step - loss: 0.5098 - acc: 0.8344 - val_loss: 0.6627 - val_acc: 0.8081\n"
          ],
          "name": "stdout"
        }
      ]
    },
    {
      "metadata": {
        "id": "jT-FzN0d-UjH",
        "colab_type": "code",
        "colab": {}
      },
      "cell_type": "code",
      "source": [
        ""
      ],
      "execution_count": 0,
      "outputs": []
    }
  ]
}